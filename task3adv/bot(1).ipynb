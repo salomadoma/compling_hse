{
  "nbformat": 4,
  "nbformat_minor": 0,
  "metadata": {
    "colab": {
      "provenance": []
    },
    "kernelspec": {
      "name": "python3",
      "display_name": "Python 3"
    },
    "language_info": {
      "name": "python"
    }
  },
  "cells": [
    {
      "cell_type": "markdown",
      "source": [
        "1. Бот обрабатывает faq.json"
      ],
      "metadata": {
        "id": "H4lx8UwyjjjL"
      }
    },
    {
      "cell_type": "code",
      "source": [
        "!wget -O faq.json https://raw.githubusercontent.com/vifirsanova/compling/refs/heads/main/tasks/task3/faq.json"
      ],
      "metadata": {
        "colab": {
          "base_uri": "https://localhost:8080/"
        },
        "collapsed": true,
        "id": "7YcsrnUJjpQq",
        "outputId": "15f4ecf5-c787-4b7c-dfad-116c6c4126a0"
      },
      "execution_count": null,
      "outputs": [
        {
          "output_type": "stream",
          "name": "stdout",
          "text": [
            "--2025-03-23 18:14:44--  https://raw.githubusercontent.com/vifirsanova/compling/refs/heads/main/tasks/task3/faq.json\n",
            "Resolving raw.githubusercontent.com (raw.githubusercontent.com)... 185.199.108.133, 185.199.109.133, 185.199.110.133, ...\n",
            "Connecting to raw.githubusercontent.com (raw.githubusercontent.com)|185.199.108.133|:443... connected.\n",
            "HTTP request sent, awaiting response... 200 OK\n",
            "Length: 2876 (2.8K) [text/plain]\n",
            "Saving to: ‘faq.json’\n",
            "\n",
            "\rfaq.json              0%[                    ]       0  --.-KB/s               \rfaq.json            100%[===================>]   2.81K  --.-KB/s    in 0s      \n",
            "\n",
            "2025-03-23 18:14:44 (43.0 MB/s) - ‘faq.json’ saved [2876/2876]\n",
            "\n"
          ]
        }
      ]
    },
    {
      "cell_type": "code",
      "execution_count": null,
      "metadata": {
        "colab": {
          "base_uri": "https://localhost:8080/"
        },
        "id": "yl-l4l2PNVZm",
        "outputId": "2ee13964-9828-4ea9-8aec-1d7770cad936"
      },
      "outputs": [
        {
          "output_type": "stream",
          "name": "stdout",
          "text": [
            "{'faq': [{'question': 'Каковы ваши цены?', 'answer': 'Наши цены конкурентоспособны и зависят от конкретного товара. Вы можете найти подробную информацию о ценах на страницах товаров в нашем интернет-магазине.'}, {'question': 'Какие способы оплаты вы принимаете?', 'answer': 'Мы принимаем к оплате банковские карты (Visa, Mastercard), электронные кошельки (Yandex.Money, QIWI) и наложенный платеж.'}, {'question': 'В какие часы работает ваш магазин?', 'answer': 'Наш интернет-магазин работает круглосуточно, 7 дней в неделю. Вы можете делать заказы в любое удобное для вас время.'}, {'question': 'Как связаться с вами?', 'answer': 'Вы можете связаться с нами по телефону +7 (XXX) XXX-XX-XX, по электронной почте info@example.com или через форму обратной связи на нашем сайте.'}, {'question': 'Как осуществляется доставка?', 'answer': 'Мы сотрудничаем с курьерскими службами и предлагаем доставку по всей России. Стоимость и сроки доставки зависят от вашего местоположения и способа доставки.'}, {'question': 'Какая ваша политика возврата?', 'answer': 'Вы можете вернуть товар в течение 14 дней с момента получения, если он не был в употреблении и сохранил товарный вид. Подробная информация о возврате и обмене товаров указана в разделе \"Политика возврата\" на нашем сайте.'}, {'question': 'Где вы находитесь?', 'answer': 'Мы интернет-магазин и не имеем физического магазина. Все заказы обрабатываются и отправляются из нашего склада.'}, {'question': 'Как я могу отследить свой заказ?', 'answer': 'После отправки заказа вы получите письмо с номером для отслеживания. Вы можете использовать этот номер для отслеживания статуса доставки на сайте курьерской службы.'}]}\n"
          ]
        }
      ],
      "source": [
        "import json\n",
        "\n",
        "with open('faq.json', 'r') as file:\n",
        "    data = json.load(file)\n",
        "\n",
        "print(data)"
      ]
    },
    {
      "cell_type": "markdown",
      "source": [
        "2. Бот выбирает наиболее подходящий ответ на вопросы пользователя на основе оценки семантического сходства"
      ],
      "metadata": {
        "id": "-KWPMgXykMqH"
      }
    },
    {
      "cell_type": "code",
      "source": [
        "# Загружаем библиотеки для векторизации и оценки косинусного сходства\n",
        "from sklearn.feature_extraction.text import TfidfVectorizer\n",
        "from sklearn.metrics.pairwise import cosine_similarity\n",
        "\n",
        "# Списки вопросов\n",
        "faq_questions = []\n",
        "for pares in data.values():\n",
        "    for pare in pares:\n",
        "        faq_questions.append(pare['question'])\n",
        "\n",
        "faq_answers = []\n",
        "for pares in data.values():\n",
        "    for pare in pares:\n",
        "        faq_answers.append(pare['answer'])\n",
        "\n",
        "# TF-IDF преобразование\n",
        "vectorizer = TfidfVectorizer()\n",
        "tfidf_matrix = vectorizer.fit_transform(faq_questions)\n",
        "\n",
        "\n",
        "def tfidfvectorizer(query):\n",
        "    # Преобразуем запрос в вектор\n",
        "    query_vec = vectorizer.transform([query])\n",
        "    # Вычисляем косинусное сходство\n",
        "    similarities = cosine_similarity(query_vec, tfidf_matrix)\n",
        "    # Ищем индекс наиболее близкого вопроса на основе косинусного сходства\n",
        "    best_match_idx = similarities.argmax()\n",
        "    best_answer = faq_answers[best_match_idx]\n",
        "    return best_answer"
      ],
      "metadata": {
        "id": "W1nMXMpmzkj3"
      },
      "execution_count": null,
      "outputs": []
    },
    {
      "cell_type": "code",
      "source": [
        "# Загрузка Word2Vec из Gensim\n",
        "import gensim\n",
        "import numpy as np\n",
        "from gensim.models import Word2Vec\n",
        "from sklearn.metrics.pairwise import cosine_similarity\n",
        "\n",
        "# Подгружаем Word2Vec\n",
        "sentences = [q.split() for q in faq_questions]\n",
        "model = Word2Vec(sentences, vector_size=100, window=5, min_count=1, workers=4)\n",
        "\n",
        "# Функция для усреднения векторов слов в вопросе\n",
        "def sentence_vector(sentence, model):\n",
        "    words = sentence.split()\n",
        "    vectors = [model.wv[word] for word in words if word in model.wv]\n",
        "    return np.mean(vectors, axis=0) # Берем среднее значение по всем векторам, чтобы одно предложение представлял один вектор\n",
        "\n",
        "# Векторизуем вопросы\n",
        "faq_vectors = np.array([sentence_vector(q, model) for q in faq_questions])\n",
        "\n",
        "def word2vec(query):\n",
        "    query_vector = sentence_vector(query, model).reshape(1, -1)\n",
        "    # Оценка косинусного сходства\n",
        "    similarities = cosine_similarity(query_vector, faq_vectors)\n",
        "    best_match_idx = similarities.argmax()\n",
        "    best_answer = faq_answers[best_match_idx]\n",
        "    return best_answer"
      ],
      "metadata": {
        "colab": {
          "base_uri": "https://localhost:8080/",
          "height": 269
        },
        "id": "GjRF0ohXlW2t",
        "outputId": "9411ce00-6e0c-48a4-ddff-9dc0ffacd006"
      },
      "execution_count": 50,
      "outputs": [
        {
          "output_type": "error",
          "ename": "ValueError",
          "evalue": "numpy.dtype size changed, may indicate binary incompatibility. Expected 96 from C header, got 88 from PyObject",
          "traceback": [
            "\u001b[0;31m---------------------------------------------------------------------------\u001b[0m",
            "\u001b[0;31mValueError\u001b[0m                                Traceback (most recent call last)",
            "\u001b[0;32m<ipython-input-50-ab3bab3e6697>\u001b[0m in \u001b[0;36m<cell line: 0>\u001b[0;34m()\u001b[0m\n\u001b[1;32m      1\u001b[0m \u001b[0;31m# Загрузка Word2Vec из Gensim\u001b[0m\u001b[0;34m\u001b[0m\u001b[0;34m\u001b[0m\u001b[0m\n\u001b[0;32m----> 2\u001b[0;31m \u001b[0;32mimport\u001b[0m \u001b[0mgensim\u001b[0m\u001b[0;34m\u001b[0m\u001b[0;34m\u001b[0m\u001b[0m\n\u001b[0m\u001b[1;32m      3\u001b[0m \u001b[0;32mimport\u001b[0m \u001b[0mnumpy\u001b[0m \u001b[0;32mas\u001b[0m \u001b[0mnp\u001b[0m\u001b[0;34m\u001b[0m\u001b[0;34m\u001b[0m\u001b[0m\n\u001b[1;32m      4\u001b[0m \u001b[0;32mfrom\u001b[0m \u001b[0mgensim\u001b[0m\u001b[0;34m.\u001b[0m\u001b[0mmodels\u001b[0m \u001b[0;32mimport\u001b[0m \u001b[0mWord2Vec\u001b[0m\u001b[0;34m\u001b[0m\u001b[0;34m\u001b[0m\u001b[0m\n\u001b[1;32m      5\u001b[0m \u001b[0;32mfrom\u001b[0m \u001b[0msklearn\u001b[0m\u001b[0;34m.\u001b[0m\u001b[0mmetrics\u001b[0m\u001b[0;34m.\u001b[0m\u001b[0mpairwise\u001b[0m \u001b[0;32mimport\u001b[0m \u001b[0mcosine_similarity\u001b[0m\u001b[0;34m\u001b[0m\u001b[0;34m\u001b[0m\u001b[0m\n",
            "\u001b[0;32m/usr/local/lib/python3.11/dist-packages/gensim/__init__.py\u001b[0m in \u001b[0;36m<module>\u001b[0;34m\u001b[0m\n\u001b[1;32m      9\u001b[0m \u001b[0;32mimport\u001b[0m \u001b[0mlogging\u001b[0m\u001b[0;34m\u001b[0m\u001b[0;34m\u001b[0m\u001b[0m\n\u001b[1;32m     10\u001b[0m \u001b[0;34m\u001b[0m\u001b[0m\n\u001b[0;32m---> 11\u001b[0;31m \u001b[0;32mfrom\u001b[0m \u001b[0mgensim\u001b[0m \u001b[0;32mimport\u001b[0m \u001b[0mparsing\u001b[0m\u001b[0;34m,\u001b[0m \u001b[0mcorpora\u001b[0m\u001b[0;34m,\u001b[0m \u001b[0mmatutils\u001b[0m\u001b[0;34m,\u001b[0m \u001b[0minterfaces\u001b[0m\u001b[0;34m,\u001b[0m \u001b[0mmodels\u001b[0m\u001b[0;34m,\u001b[0m \u001b[0msimilarities\u001b[0m\u001b[0;34m,\u001b[0m \u001b[0mutils\u001b[0m  \u001b[0;31m# noqa:F401\u001b[0m\u001b[0;34m\u001b[0m\u001b[0;34m\u001b[0m\u001b[0m\n\u001b[0m\u001b[1;32m     12\u001b[0m \u001b[0;34m\u001b[0m\u001b[0m\n\u001b[1;32m     13\u001b[0m \u001b[0;34m\u001b[0m\u001b[0m\n",
            "\u001b[0;32m/usr/local/lib/python3.11/dist-packages/gensim/corpora/__init__.py\u001b[0m in \u001b[0;36m<module>\u001b[0;34m\u001b[0m\n\u001b[1;32m      4\u001b[0m \u001b[0;34m\u001b[0m\u001b[0m\n\u001b[1;32m      5\u001b[0m \u001b[0;31m# bring corpus classes directly into package namespace, to save some typing\u001b[0m\u001b[0;34m\u001b[0m\u001b[0;34m\u001b[0m\u001b[0m\n\u001b[0;32m----> 6\u001b[0;31m \u001b[0;32mfrom\u001b[0m \u001b[0;34m.\u001b[0m\u001b[0mindexedcorpus\u001b[0m \u001b[0;32mimport\u001b[0m \u001b[0mIndexedCorpus\u001b[0m  \u001b[0;31m# noqa:F401 must appear before the other classes\u001b[0m\u001b[0;34m\u001b[0m\u001b[0;34m\u001b[0m\u001b[0m\n\u001b[0m\u001b[1;32m      7\u001b[0m \u001b[0;34m\u001b[0m\u001b[0m\n\u001b[1;32m      8\u001b[0m \u001b[0;32mfrom\u001b[0m \u001b[0;34m.\u001b[0m\u001b[0mmmcorpus\u001b[0m \u001b[0;32mimport\u001b[0m \u001b[0mMmCorpus\u001b[0m  \u001b[0;31m# noqa:F401\u001b[0m\u001b[0;34m\u001b[0m\u001b[0;34m\u001b[0m\u001b[0m\n",
            "\u001b[0;32m/usr/local/lib/python3.11/dist-packages/gensim/corpora/indexedcorpus.py\u001b[0m in \u001b[0;36m<module>\u001b[0;34m\u001b[0m\n\u001b[1;32m     12\u001b[0m \u001b[0;32mimport\u001b[0m \u001b[0mnumpy\u001b[0m\u001b[0;34m\u001b[0m\u001b[0;34m\u001b[0m\u001b[0m\n\u001b[1;32m     13\u001b[0m \u001b[0;34m\u001b[0m\u001b[0m\n\u001b[0;32m---> 14\u001b[0;31m \u001b[0;32mfrom\u001b[0m \u001b[0mgensim\u001b[0m \u001b[0;32mimport\u001b[0m \u001b[0minterfaces\u001b[0m\u001b[0;34m,\u001b[0m \u001b[0mutils\u001b[0m\u001b[0;34m\u001b[0m\u001b[0;34m\u001b[0m\u001b[0m\n\u001b[0m\u001b[1;32m     15\u001b[0m \u001b[0;34m\u001b[0m\u001b[0m\n\u001b[1;32m     16\u001b[0m \u001b[0mlogger\u001b[0m \u001b[0;34m=\u001b[0m \u001b[0mlogging\u001b[0m\u001b[0;34m.\u001b[0m\u001b[0mgetLogger\u001b[0m\u001b[0;34m(\u001b[0m\u001b[0m__name__\u001b[0m\u001b[0;34m)\u001b[0m\u001b[0;34m\u001b[0m\u001b[0;34m\u001b[0m\u001b[0m\n",
            "\u001b[0;32m/usr/local/lib/python3.11/dist-packages/gensim/interfaces.py\u001b[0m in \u001b[0;36m<module>\u001b[0;34m\u001b[0m\n\u001b[1;32m     17\u001b[0m \u001b[0;32mimport\u001b[0m \u001b[0mlogging\u001b[0m\u001b[0;34m\u001b[0m\u001b[0;34m\u001b[0m\u001b[0m\n\u001b[1;32m     18\u001b[0m \u001b[0;34m\u001b[0m\u001b[0m\n\u001b[0;32m---> 19\u001b[0;31m \u001b[0;32mfrom\u001b[0m \u001b[0mgensim\u001b[0m \u001b[0;32mimport\u001b[0m \u001b[0mutils\u001b[0m\u001b[0;34m,\u001b[0m \u001b[0mmatutils\u001b[0m\u001b[0;34m\u001b[0m\u001b[0;34m\u001b[0m\u001b[0m\n\u001b[0m\u001b[1;32m     20\u001b[0m \u001b[0;34m\u001b[0m\u001b[0m\n\u001b[1;32m     21\u001b[0m \u001b[0;34m\u001b[0m\u001b[0m\n",
            "\u001b[0;32m/usr/local/lib/python3.11/dist-packages/gensim/matutils.py\u001b[0m in \u001b[0;36m<module>\u001b[0;34m\u001b[0m\n\u001b[1;32m   1032\u001b[0m \u001b[0;32mtry\u001b[0m\u001b[0;34m:\u001b[0m\u001b[0;34m\u001b[0m\u001b[0;34m\u001b[0m\u001b[0m\n\u001b[1;32m   1033\u001b[0m     \u001b[0;31m# try to load fast, cythonized code if possible\u001b[0m\u001b[0;34m\u001b[0m\u001b[0;34m\u001b[0m\u001b[0m\n\u001b[0;32m-> 1034\u001b[0;31m     \u001b[0;32mfrom\u001b[0m \u001b[0mgensim\u001b[0m\u001b[0;34m.\u001b[0m\u001b[0m_matutils\u001b[0m \u001b[0;32mimport\u001b[0m \u001b[0mlogsumexp\u001b[0m\u001b[0;34m,\u001b[0m \u001b[0mmean_absolute_difference\u001b[0m\u001b[0;34m,\u001b[0m \u001b[0mdirichlet_expectation\u001b[0m\u001b[0;34m\u001b[0m\u001b[0;34m\u001b[0m\u001b[0m\n\u001b[0m\u001b[1;32m   1035\u001b[0m \u001b[0;34m\u001b[0m\u001b[0m\n\u001b[1;32m   1036\u001b[0m \u001b[0;32mexcept\u001b[0m \u001b[0mImportError\u001b[0m\u001b[0;34m:\u001b[0m\u001b[0;34m\u001b[0m\u001b[0;34m\u001b[0m\u001b[0m\n",
            "\u001b[0;32m/usr/local/lib/python3.11/dist-packages/gensim/_matutils.pyx\u001b[0m in \u001b[0;36minit gensim._matutils\u001b[0;34m()\u001b[0m\n",
            "\u001b[0;31mValueError\u001b[0m: numpy.dtype size changed, may indicate binary incompatibility. Expected 96 from C header, got 88 from PyObject"
          ]
        }
      ]
    },
    {
      "cell_type": "markdown",
      "source": [
        "3. Кнопки \"О компании\" и \"Пожаловаться\""
      ],
      "metadata": {
        "id": "JZsPUeX3ntop"
      }
    },
    {
      "cell_type": "code",
      "source": [
        "!pip install aiogram -q"
      ],
      "metadata": {
        "id": "YP1VeLLMo8os"
      },
      "execution_count": null,
      "outputs": []
    },
    {
      "cell_type": "code",
      "source": [
        "# Импортируем необходимые модули\n",
        "from aiogram import Bot, Dispatcher, types  # Основные классы для работы с ботом\n",
        "import logging  # Логирование для отслеживания работы бота\n",
        "import asyncio  # Модуль для работы с асинхронным кодом\n",
        "import sys  # Используется для работы с системными вызовами\n",
        "from aiogram.filters import Command # Модуль для определения команд\n",
        "from aiogram.types import ReplyKeyboardMarkup, KeyboardButton # Модули для кнопок\n",
        "\n",
        "# Настраиваем логирование, чтобы видеть информацию о работе бота в консоли\n",
        "logging.basicConfig(level=logging.INFO)\n",
        "# Создаем объект диспетчера, который управляет входящими сообщениями и командами\n",
        "dp = Dispatcher()\n",
        "bot = Bot(token='7566298370:AAFH0dScGj4oS01j0d6wtsXJgkde3_14AM8') # Токен API бота (его нужно заменить на реальный токен, полученный у BotFather)\n",
        "\n",
        "# Создаём список кнопок для клавиатуры\n",
        "kb = [\n",
        "    [\n",
        "        KeyboardButton(text=\"О компании\"), # Кнопка для запроса информации о компании\n",
        "        KeyboardButton(text=\"Пожаловаться\")  # Кнопка для отправки жалобы\n",
        "    ]\n",
        "]\n",
        "\n",
        "# Создаём объект клавиатуры с кнопками\n",
        "keyboard = ReplyKeyboardMarkup(\n",
        "    keyboard=kb, # Передаём список кнопок\n",
        "    resize_keyboard=True, # Уменьшаем клавиатуру под размер экрана\n",
        "    input_field_placeholder=\"Выберите действие\" # Текст-подсказка в поле ввода\n",
        "    )\n",
        "\n",
        "\n",
        "@dp.message(Command(\"start\"))\n",
        "async def start_command(message: types.Message):\n",
        "    await message.answer(\"Привет! Я бот, который может отвечать на частые вопросы.\", reply_markup=keyboard) # Отправляем сообщение с клавиатурой в команду start\n",
        "\n",
        "# Обрабатываем нажатие кнопки \"О компании\"\n",
        "@dp.message(lambda message: message.text == \"О компании\") # Фильтр для сообщений с текстом \"О компании\"\n",
        "async def about_bot(message: types.Message):\n",
        "    await message.answer(\"Наша компания занимается доставкой товаров по всей стране.\")\n",
        "\n",
        "# Обрабатываем нажатие кнопки \"Пожаловаться\"\n",
        "@dp.message(lambda message: message.text == \"Пожаловаться\") # Фильтр для сообщений с текстом \"Пожаловаться\"\n",
        "async def about_bot(message: types.Message):\n",
        "    await message.answer(\"Пожалуйста, пришлите фотографию.\")\n",
        "\n",
        "# Обрабатываем все входящие сообщения\n",
        "@dp.message()\n",
        "async def answers(message: types.Message):\n",
        "    question = message.text\n",
        "    tfidf = tfidfvectorizer(question)\n",
        "    word2vec = word2vec(question)\n",
        "    await message.answer(f\"TF-IDF: {tfidf}\\nWord2Vec: {word2vec}\")\n",
        "\n",
        "# Обрабатываем входящие изображения\n",
        "@dp.message(lambda message: message.photo) # Проверяем, является ли сообщение фотографией\n",
        "async def get_photo(message: types.Message):\n",
        "    document = message.photo[-1].file_id\n",
        "    photo = await bot.get_file(document)\n",
        "    name = photo.file_path.split(\"/\")[-1]\n",
        "    size = message.photo[-1].file_size\n",
        "    await message.answer(f'Название файла: {name}\\nРазмер файла: {size} байт.\\nВаш запрос передан специалисту.')\n",
        "\n",
        "async def main():\n",
        "    await dp.start_polling(bot)\n",
        "\n",
        "if __name__ == \"__main__\":\n",
        "    await main()"
      ],
      "metadata": {
        "id": "u9s8XRn1nxEf"
      },
      "execution_count": null,
      "outputs": []
    }
  ]
}